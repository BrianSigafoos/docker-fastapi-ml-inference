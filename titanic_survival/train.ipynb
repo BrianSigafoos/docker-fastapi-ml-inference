{
 "cells": [
  {
   "cell_type": "code",
   "execution_count": 14,
   "metadata": {},
   "outputs": [
    {
     "name": "stdout",
     "output_type": "stream",
     "text": [
      "python version: 3.11.2 (main, Feb 13 2023, 03:31:04) [Clang 14.0.0 (clang-1400.0.29.202)]\n",
      "joblib version: 1.2.0\n",
      "pandas version: 1.5.3\n",
      "sklearn version: 1.2.1\n"
     ]
    }
   ],
   "source": [
    "import joblib\n",
    "import numpy as np\n",
    "import os\n",
    "import pandas as pd\n",
    "import sklearn\n",
    "import sys\n",
    "\n",
    "from pathlib import Path\n",
    "from sklearn.ensemble import RandomForestRegressor\n",
    "from sklearn.metrics import accuracy_score, classification_report, confusion_matrix\n",
    "from sklearn.model_selection import train_test_split\n",
    "\n",
    "# Library versions\n",
    "print(\"python version:\", sys.version)\n",
    "print(\"joblib version:\", joblib.__version__)\n",
    "print(\"pandas version:\", pd.__version__)\n",
    "print(\"sklearn version:\", sklearn.__version__)\n",
    "\n",
    "# Data version\n",
    "version = 20230228\n",
    "data_file = \"train.csv\"\n",
    "\n",
    "# More variables\n",
    "prefix = \"titanic_survival\"\n",
    "data_path = Path(\"data\")\n",
    "data_path.mkdir(exist_ok=True)\n",
    "model_path = Path(f\"../app/{prefix}\") / f\"model-{version}.joblib\"\n",
    "dep_col = \"Survived\"\n",
    "important_feature_threshold = 0.005"
   ]
  },
  {
   "cell_type": "code",
   "execution_count": 15,
   "metadata": {},
   "outputs": [],
   "source": [
    "df = pd.read_csv(data_path / \"train.csv\")\n",
    "modes = df.mode().iloc[0]"
   ]
  },
  {
   "cell_type": "code",
   "execution_count": 16,
   "metadata": {},
   "outputs": [],
   "source": [
    "def preprocess_data(df, test=False):\n",
    "    df[\"NameLength\"] = df.Name.apply(len)\n",
    "    df[\"HasCabin\"] = df.Cabin.apply(lambda x: 0 if type(x) == float else 1)\n",
    "    df[\"IsFemale\"] = df.Sex == \"female\"\n",
    "    drop_cols = [\"Name\", \"Ticket\", \"Cabin\", \"Embarked\", \"PassengerId\", \"Sex\"]\n",
    "    df = df.drop(drop_cols, axis=1)\n",
    "\n",
    "    df[\"Fare\"] = df.Fare.fillna(0)\n",
    "    df.fillna(modes, inplace=True)\n",
    "    # Reorder columns alphabetically\n",
    "    df = df.reindex(sorted(df.columns), axis=1)\n",
    "    return df"
   ]
  },
  {
   "cell_type": "code",
   "execution_count": 17,
   "metadata": {},
   "outputs": [
    {
     "name": "stdout",
     "output_type": "stream",
     "text": [
      "Data rows: 891\n",
      "Features: 9\n",
      "Columns: Index(['Age', 'Fare', 'HasCabin', 'IsFemale', 'NameLength', 'Parch', 'Pclass',\n",
      "       'SibSp', 'Survived'],\n",
      "      dtype='object')\n"
     ]
    },
    {
     "data": {
      "text/html": [
       "<div>\n",
       "<style scoped>\n",
       "    .dataframe tbody tr th:only-of-type {\n",
       "        vertical-align: middle;\n",
       "    }\n",
       "\n",
       "    .dataframe tbody tr th {\n",
       "        vertical-align: top;\n",
       "    }\n",
       "\n",
       "    .dataframe thead th {\n",
       "        text-align: right;\n",
       "    }\n",
       "</style>\n",
       "<table border=\"1\" class=\"dataframe\">\n",
       "  <thead>\n",
       "    <tr style=\"text-align: right;\">\n",
       "      <th></th>\n",
       "      <th>Age</th>\n",
       "      <th>Fare</th>\n",
       "      <th>HasCabin</th>\n",
       "      <th>IsFemale</th>\n",
       "      <th>NameLength</th>\n",
       "      <th>Parch</th>\n",
       "      <th>Pclass</th>\n",
       "      <th>SibSp</th>\n",
       "      <th>Survived</th>\n",
       "    </tr>\n",
       "  </thead>\n",
       "  <tbody>\n",
       "    <tr>\n",
       "      <th>0</th>\n",
       "      <td>22.0</td>\n",
       "      <td>7.2500</td>\n",
       "      <td>0</td>\n",
       "      <td>False</td>\n",
       "      <td>23</td>\n",
       "      <td>0</td>\n",
       "      <td>3</td>\n",
       "      <td>1</td>\n",
       "      <td>0</td>\n",
       "    </tr>\n",
       "    <tr>\n",
       "      <th>1</th>\n",
       "      <td>38.0</td>\n",
       "      <td>71.2833</td>\n",
       "      <td>1</td>\n",
       "      <td>True</td>\n",
       "      <td>51</td>\n",
       "      <td>0</td>\n",
       "      <td>1</td>\n",
       "      <td>1</td>\n",
       "      <td>1</td>\n",
       "    </tr>\n",
       "    <tr>\n",
       "      <th>2</th>\n",
       "      <td>26.0</td>\n",
       "      <td>7.9250</td>\n",
       "      <td>0</td>\n",
       "      <td>True</td>\n",
       "      <td>22</td>\n",
       "      <td>0</td>\n",
       "      <td>3</td>\n",
       "      <td>0</td>\n",
       "      <td>1</td>\n",
       "    </tr>\n",
       "    <tr>\n",
       "      <th>3</th>\n",
       "      <td>35.0</td>\n",
       "      <td>53.1000</td>\n",
       "      <td>1</td>\n",
       "      <td>True</td>\n",
       "      <td>44</td>\n",
       "      <td>0</td>\n",
       "      <td>1</td>\n",
       "      <td>1</td>\n",
       "      <td>1</td>\n",
       "    </tr>\n",
       "    <tr>\n",
       "      <th>4</th>\n",
       "      <td>35.0</td>\n",
       "      <td>8.0500</td>\n",
       "      <td>0</td>\n",
       "      <td>False</td>\n",
       "      <td>24</td>\n",
       "      <td>0</td>\n",
       "      <td>3</td>\n",
       "      <td>0</td>\n",
       "      <td>0</td>\n",
       "    </tr>\n",
       "  </tbody>\n",
       "</table>\n",
       "</div>"
      ],
      "text/plain": [
       "    Age     Fare  HasCabin  IsFemale  NameLength  Parch  Pclass  SibSp  \\\n",
       "0  22.0   7.2500         0     False          23      0       3      1   \n",
       "1  38.0  71.2833         1      True          51      0       1      1   \n",
       "2  26.0   7.9250         0      True          22      0       3      0   \n",
       "3  35.0  53.1000         1      True          44      0       1      1   \n",
       "4  35.0   8.0500         0     False          24      0       3      0   \n",
       "\n",
       "   Survived  \n",
       "0         0  \n",
       "1         1  \n",
       "2         1  \n",
       "3         1  \n",
       "4         0  "
      ]
     },
     "execution_count": 17,
     "metadata": {},
     "output_type": "execute_result"
    }
   ],
   "source": [
    "df = preprocess_data(df)\n",
    "\n",
    "# Inspect data\n",
    "print(\"Data rows:\", df.shape[0])\n",
    "print(\"Features:\", df.shape[1])\n",
    "print(\"Columns:\", df.columns.sort_values())\n",
    "df.head()"
   ]
  },
  {
   "cell_type": "code",
   "execution_count": 18,
   "metadata": {},
   "outputs": [
    {
     "name": "stdout",
     "output_type": "stream",
     "text": [
      "Accuracy: 0.8268156424581006\n"
     ]
    },
    {
     "data": {
      "text/html": [
       "<div>\n",
       "<style scoped>\n",
       "    .dataframe tbody tr th:only-of-type {\n",
       "        vertical-align: middle;\n",
       "    }\n",
       "\n",
       "    .dataframe tbody tr th {\n",
       "        vertical-align: top;\n",
       "    }\n",
       "\n",
       "    .dataframe thead th {\n",
       "        text-align: right;\n",
       "    }\n",
       "</style>\n",
       "<table border=\"1\" class=\"dataframe\">\n",
       "  <thead>\n",
       "    <tr style=\"text-align: right;\">\n",
       "      <th></th>\n",
       "      <th>Predicted Not Survived</th>\n",
       "      <th>Predicted Survived</th>\n",
       "    </tr>\n",
       "  </thead>\n",
       "  <tbody>\n",
       "    <tr>\n",
       "      <th>Actual Not Survived</th>\n",
       "      <td>105</td>\n",
       "      <td>12</td>\n",
       "    </tr>\n",
       "    <tr>\n",
       "      <th>Actual Survived</th>\n",
       "      <td>19</td>\n",
       "      <td>43</td>\n",
       "    </tr>\n",
       "  </tbody>\n",
       "</table>\n",
       "</div>"
      ],
      "text/plain": [
       "                     Predicted Not Survived  Predicted Survived\n",
       "Actual Not Survived                     105                  12\n",
       "Actual Survived                          19                  43"
      ]
     },
     "execution_count": 18,
     "metadata": {},
     "output_type": "execute_result"
    }
   ],
   "source": [
    "# Train model\n",
    "X_train, X_test, y_train, y_test = train_test_split(\n",
    "    df.drop([dep_col], axis=1), df[dep_col], test_size=0.2\n",
    ")\n",
    "clf = RandomForestRegressor(n_estimators=100)\n",
    "clf.fit(X_train, y_train)\n",
    "\n",
    "# Test model\n",
    "y_pred = clf.predict(X_test)\n",
    "\n",
    "print(\"Accuracy:\", accuracy_score(y_test, y_pred.round()))\n",
    "# Simply rounding the predictions to 0 or 1\n",
    "pd.DataFrame(\n",
    "    confusion_matrix(y_test, y_pred.round()),\n",
    "    columns=[\"Predicted Not Survived\", \"Predicted Survived\"],\n",
    "    index=[\"Actual Not Survived\", \"Actual Survived\"],\n",
    ")"
   ]
  },
  {
   "cell_type": "code",
   "execution_count": 19,
   "metadata": {},
   "outputs": [
    {
     "data": {
      "text/html": [
       "<div>\n",
       "<style scoped>\n",
       "    .dataframe tbody tr th:only-of-type {\n",
       "        vertical-align: middle;\n",
       "    }\n",
       "\n",
       "    .dataframe tbody tr th {\n",
       "        vertical-align: top;\n",
       "    }\n",
       "\n",
       "    .dataframe thead th {\n",
       "        text-align: right;\n",
       "    }\n",
       "</style>\n",
       "<table border=\"1\" class=\"dataframe\">\n",
       "  <thead>\n",
       "    <tr style=\"text-align: right;\">\n",
       "      <th></th>\n",
       "      <th>cols</th>\n",
       "      <th>imp</th>\n",
       "    </tr>\n",
       "  </thead>\n",
       "  <tbody>\n",
       "    <tr>\n",
       "      <th>3</th>\n",
       "      <td>IsFemale</td>\n",
       "      <td>0.298716</td>\n",
       "    </tr>\n",
       "    <tr>\n",
       "      <th>0</th>\n",
       "      <td>Age</td>\n",
       "      <td>0.196312</td>\n",
       "    </tr>\n",
       "    <tr>\n",
       "      <th>1</th>\n",
       "      <td>Fare</td>\n",
       "      <td>0.189658</td>\n",
       "    </tr>\n",
       "    <tr>\n",
       "      <th>4</th>\n",
       "      <td>NameLength</td>\n",
       "      <td>0.146443</td>\n",
       "    </tr>\n",
       "    <tr>\n",
       "      <th>6</th>\n",
       "      <td>Pclass</td>\n",
       "      <td>0.085766</td>\n",
       "    </tr>\n",
       "    <tr>\n",
       "      <th>7</th>\n",
       "      <td>SibSp</td>\n",
       "      <td>0.039348</td>\n",
       "    </tr>\n",
       "    <tr>\n",
       "      <th>2</th>\n",
       "      <td>HasCabin</td>\n",
       "      <td>0.027237</td>\n",
       "    </tr>\n",
       "    <tr>\n",
       "      <th>5</th>\n",
       "      <td>Parch</td>\n",
       "      <td>0.016520</td>\n",
       "    </tr>\n",
       "  </tbody>\n",
       "</table>\n",
       "</div>"
      ],
      "text/plain": [
       "         cols       imp\n",
       "3    IsFemale  0.298716\n",
       "0         Age  0.196312\n",
       "1        Fare  0.189658\n",
       "4  NameLength  0.146443\n",
       "6      Pclass  0.085766\n",
       "7       SibSp  0.039348\n",
       "2    HasCabin  0.027237\n",
       "5       Parch  0.016520"
      ]
     },
     "execution_count": 19,
     "metadata": {},
     "output_type": "execute_result"
    }
   ],
   "source": [
    "# Feature importance\n",
    "def rf_feat_importance(m, df):\n",
    "    return pd.DataFrame(\n",
    "        {\"cols\": df.columns, \"imp\": m.feature_importances_}\n",
    "    ).sort_values(\"imp\", ascending=False)\n",
    "\n",
    "\n",
    "fi = rf_feat_importance(clf, X_train)\n",
    "# All greater than 0.005\n",
    "important_features = fi[fi.imp > important_feature_threshold]\n",
    "important_features"
   ]
  },
  {
   "cell_type": "code",
   "execution_count": 20,
   "metadata": {},
   "outputs": [
    {
     "data": {
      "text/html": [
       "<div>\n",
       "<style scoped>\n",
       "    .dataframe tbody tr th:only-of-type {\n",
       "        vertical-align: middle;\n",
       "    }\n",
       "\n",
       "    .dataframe tbody tr th {\n",
       "        vertical-align: top;\n",
       "    }\n",
       "\n",
       "    .dataframe thead th {\n",
       "        text-align: right;\n",
       "    }\n",
       "</style>\n",
       "<table border=\"1\" class=\"dataframe\">\n",
       "  <thead>\n",
       "    <tr style=\"text-align: right;\">\n",
       "      <th></th>\n",
       "      <th>cols</th>\n",
       "      <th>imp</th>\n",
       "    </tr>\n",
       "  </thead>\n",
       "  <tbody>\n",
       "  </tbody>\n",
       "</table>\n",
       "</div>"
      ],
      "text/plain": [
       "Empty DataFrame\n",
       "Columns: [cols, imp]\n",
       "Index: []"
      ]
     },
     "execution_count": 20,
     "metadata": {},
     "output_type": "execute_result"
    }
   ],
   "source": [
    "unimportant_features = fi[fi.imp <= important_feature_threshold]\n",
    "unimportant_features"
   ]
  },
  {
   "cell_type": "code",
   "execution_count": 21,
   "metadata": {},
   "outputs": [],
   "source": [
    "# test_df = pd.read_csv(data_path / \"test.csv\")\n",
    "# test_df = preprocess_data(test_df)\n",
    "# test_df"
   ]
  },
  {
   "cell_type": "code",
   "execution_count": 22,
   "metadata": {},
   "outputs": [],
   "source": [
    "# test_df[\"Survived\"] = clf.predict(test_df).round().astype(int)\n",
    "# test_df"
   ]
  },
  {
   "cell_type": "code",
   "execution_count": 23,
   "metadata": {},
   "outputs": [
    {
     "data": {
      "text/plain": [
       "['../app/titanic_survival/model-20230228.joblib']"
      ]
     },
     "execution_count": 23,
     "metadata": {},
     "output_type": "execute_result"
    }
   ],
   "source": [
    "joblib.dump(clf, model_path)"
   ]
  },
  {
   "cell_type": "code",
   "execution_count": 24,
   "metadata": {},
   "outputs": [
    {
     "data": {
      "text/plain": [
       "{'PassengerId': 892,\n",
       " 'Pclass': 3,\n",
       " 'Name': 'Kelly, Mr. James',\n",
       " 'Sex': 'male',\n",
       " 'Age': 34.5,\n",
       " 'SibSp': 0,\n",
       " 'Parch': 0,\n",
       " 'Ticket': '330911',\n",
       " 'Fare': 7.8292,\n",
       " 'Cabin': nan,\n",
       " 'Embarked': 'Q'}"
      ]
     },
     "execution_count": 24,
     "metadata": {},
     "output_type": "execute_result"
    }
   ],
   "source": [
    "# Call model from file, same as in app/<prefix>/model.py for FastAPI\n",
    "with open(model_path, \"rb\") as f:\n",
    "    model = joblib.load(f)\n",
    "\n",
    "test_df = pd.read_csv(data_path / \"test.csv\")\n",
    "\n",
    "payload = test_df.iloc[0].to_dict()\n",
    "payload"
   ]
  },
  {
   "cell_type": "code",
   "execution_count": 25,
   "metadata": {},
   "outputs": [
    {
     "name": "stdout",
     "output_type": "stream",
     "text": [
      "    Age    Fare  HasCabin  IsFemale  NameLength  Parch  Pclass  SibSp\n",
      "0  34.5  7.8292         0     False          16      0       3      0\n"
     ]
    },
    {
     "data": {
      "text/plain": [
       "array([0.11666667])"
      ]
     },
     "execution_count": 25,
     "metadata": {},
     "output_type": "execute_result"
    }
   ],
   "source": [
    "df_from_payload = pd.DataFrame([payload])\n",
    "# print(df_from_payload)\n",
    "df_from_payload = preprocess_data(df_from_payload, test=True)\n",
    "print(df_from_payload)\n",
    "y_pred = model.predict(df_from_payload)\n",
    "y_pred"
   ]
  },
  {
   "cell_type": "code",
   "execution_count": null,
   "metadata": {},
   "outputs": [],
   "source": []
  }
 ],
 "metadata": {
  "kernelspec": {
   "display_name": ".venv",
   "language": "python",
   "name": "python3"
  },
  "language_info": {
   "codemirror_mode": {
    "name": "ipython",
    "version": 3
   },
   "file_extension": ".py",
   "mimetype": "text/x-python",
   "name": "python",
   "nbconvert_exporter": "python",
   "pygments_lexer": "ipython3",
   "version": "3.11.2"
  },
  "orig_nbformat": 4,
  "vscode": {
   "interpreter": {
    "hash": "8b8a808ce4b94992032ca6ff9517fa7312e547a7c9861ad66ec808d758c91b41"
   }
  }
 },
 "nbformat": 4,
 "nbformat_minor": 2
}
