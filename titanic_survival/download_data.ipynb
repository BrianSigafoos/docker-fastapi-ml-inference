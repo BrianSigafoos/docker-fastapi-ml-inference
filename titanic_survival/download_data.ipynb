{
 "cells": [
  {
   "attachments": {},
   "cell_type": "markdown",
   "metadata": {},
   "source": [
    "# Download data\n",
    "\n",
    "Uses your Kaggle credentials:\n",
    "\n",
    "From kaggle.com > My Account > Create new API token to download credentials in `kaggle.json`.\n",
    "\n",
    "Then run this in your terminal:\n",
    "\n",
    "```shell\n",
    "mkdir -p ~/.kaggle\n",
    "mv ~/Downloads/kaggle.json ~/.kaggle/kaggle.json\n",
    "chmod 600 ~/.kaggle/kaggle.json\n",
    "```"
   ]
  },
  {
   "cell_type": "code",
   "execution_count": 7,
   "metadata": {},
   "outputs": [
    {
     "name": "stdout",
     "output_type": "stream",
     "text": [
      "titanic.zip: Skipping, found more recently modified local copy (use --force to force download)\n",
      "Downloaded data to data/ directory\n"
     ]
    }
   ],
   "source": [
    "import kaggle\n",
    "import zipfile\n",
    "from pathlib import Path\n",
    "\n",
    "competition = \"titanic\" \n",
    "# Save data in `data/` directories, that are gitignored\n",
    "path = Path(\"data\")\n",
    "\n",
    "kaggle.api.competition_download_cli(competition=competition, path=str(path))\n",
    "zipfile.ZipFile(f\"{path}/{competition}.zip\").extractall(path)\n",
    "\n",
    "print(f\"Downloaded data to {path} directory\")"
   ]
  }
 ],
 "metadata": {
  "kernelspec": {
   "display_name": ".venv",
   "language": "python",
   "name": "python3"
  },
  "language_info": {
   "codemirror_mode": {
    "name": "ipython",
    "version": 3
   },
   "file_extension": ".py",
   "mimetype": "text/x-python",
   "name": "python",
   "nbconvert_exporter": "python",
   "pygments_lexer": "ipython3",
   "version": "3.11.2"
  },
  "orig_nbformat": 4,
  "vscode": {
   "interpreter": {
    "hash": "8b8a808ce4b94992032ca6ff9517fa7312e547a7c9861ad66ec808d758c91b41"
   }
  }
 },
 "nbformat": 4,
 "nbformat_minor": 2
}
